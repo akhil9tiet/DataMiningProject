{
 "cells": [
  {
   "cell_type": "code",
   "execution_count": 7,
   "metadata": {
    "collapsed": true
   },
   "outputs": [],
   "source": [
    "import pandas as pd\n",
    "import numpy as np \n",
    "import matplotlib.pyplot as plt"
   ]
  },
  {
   "cell_type": "code",
   "execution_count": 8,
   "metadata": {
    "collapsed": false
   },
   "outputs": [],
   "source": [
    "spamreader = pd.read_csv('app_metadata.csv', index_col = False)"
   ]
  },
  {
   "cell_type": "code",
   "execution_count": 9,
   "metadata": {
    "collapsed": false
   },
   "outputs": [],
   "source": [
    "app_df=pd.DataFrame.from_csv('app_metadata.csv', index_col = False)"
   ]
  },
  {
   "cell_type": "code",
   "execution_count": 20,
   "metadata": {
    "collapsed": false
   },
   "outputs": [
    {
     "data": {
      "text/plain": [
       "0                            NaN\n",
       "1                            NaN\n",
       "2        10,000,000 - 50,000,000\n",
       "3         5,000,000 - 10,000,000\n",
       "4        10,000,000 - 50,000,000\n",
       "5              100,000 - 500,000\n",
       "6                  1,000 - 5,000\n",
       "7                      100 - 500\n",
       "8        10,000,000 - 50,000,000\n",
       "9                10,000 - 50,000\n",
       "10              50,000 - 100,000\n",
       "11               10,000 - 50,000\n",
       "12              50,000 - 100,000\n",
       "13                     100 - 500\n",
       "14                     100 - 500\n",
       "15                         18537\n",
       "16                     100 - 500\n",
       "17                         18537\n",
       "18                         42865\n",
       "19                     100 - 500\n",
       "20                     100 - 500\n",
       "21                     100 - 500\n",
       "22                         18537\n",
       "23                 1,000 - 5,000\n",
       "24                         18537\n",
       "25                 1,000 - 5,000\n",
       "26                 1,000 - 5,000\n",
       "27                 1,000 - 5,000\n",
       "28                      50 - 100\n",
       "29        5,000,000 - 10,000,000\n",
       "                  ...           \n",
       "8449              5,000 - 10,000\n",
       "8450      5,000,000 - 10,000,000\n",
       "8451               1,000 - 5,000\n",
       "8452         500,000 - 1,000,000\n",
       "8453              5,000 - 10,000\n",
       "8454       1,000,000 - 5,000,000\n",
       "8455               1,000 - 5,000\n",
       "8456         500,000 - 1,000,000\n",
       "8457            50,000 - 100,000\n",
       "8458      5,000,000 - 10,000,000\n",
       "8459     10,000,000 - 50,000,000\n",
       "8460           100,000 - 500,000\n",
       "8461    50,000,000 - 100,000,000\n",
       "8462      5,000,000 - 10,000,000\n",
       "8463       1,000,000 - 5,000,000\n",
       "8464           100,000 - 500,000\n",
       "8465                       18537\n",
       "8466               1,000 - 5,000\n",
       "8467                    50 - 100\n",
       "8468               1,000 - 5,000\n",
       "8469     10,000,000 - 50,000,000\n",
       "8470               1,000 - 5,000\n",
       "8471                   100 - 500\n",
       "8472           100,000 - 500,000\n",
       "8473         500,000 - 1,000,000\n",
       "8474             10,000 - 50,000\n",
       "8475     10,000,000 - 50,000,000\n",
       "8476         500,000 - 1,000,000\n",
       "8477         500,000 - 1,000,000\n",
       "8478     10,000,000 - 50,000,000\n",
       "Name: DOWNLOADS, dtype: object"
      ]
     },
     "execution_count": 20,
     "metadata": {},
     "output_type": "execute_result"
    }
   ],
   "source": [
    "(app_df['DOWNLOADS'])"
   ]
  },
  {
   "cell_type": "code",
   "execution_count": 6,
   "metadata": {
    "collapsed": false
   },
   "outputs": [
    {
     "ename": "SyntaxError",
     "evalue": "invalid syntax (<ipython-input-6-60c4b4abbb50>, line 2)",
     "output_type": "error",
     "traceback": [
      "\u001b[0;36m  File \u001b[0;32m\"<ipython-input-6-60c4b4abbb50>\"\u001b[0;36m, line \u001b[0;32m2\u001b[0m\n\u001b[0;31m    [print (row[])]\u001b[0m\n\u001b[0m                ^\u001b[0m\n\u001b[0;31mSyntaxError\u001b[0m\u001b[0;31m:\u001b[0m invalid syntax\n"
     ]
    }
   ],
   "source": [
    "for row in app_df:\n",
    "    [print (row[])]"
   ]
  },
  {
   "cell_type": "code",
   "execution_count": 42,
   "metadata": {
    "collapsed": false
   },
   "outputs": [
    {
     "name": "stdout",
     "output_type": "stream",
     "text": [
      "A\n",
      "C\n",
      "P\n",
      "C\n",
      "D\n",
      "S\n",
      "C\n",
      "R\n",
      "L\n",
      "T\n",
      "A\n",
      "5\n",
      "4\n",
      "3\n",
      "2\n",
      "1\n",
      "D\n",
      "D\n",
      "D\n",
      "C\n"
     ]
    }
   ],
   "source": [
    "for row in app_df:\n",
    "    print (row[0])"
   ]
  },
  {
   "cell_type": "code",
   "execution_count": null,
   "metadata": {
    "collapsed": true
   },
   "outputs": [],
   "source": []
  }
 ],
 "metadata": {
  "anaconda-cloud": {},
  "kernelspec": {
   "display_name": "Python [default]",
   "language": "python",
   "name": "python3"
  },
  "language_info": {
   "codemirror_mode": {
    "name": "ipython",
    "version": 3
   },
   "file_extension": ".py",
   "mimetype": "text/x-python",
   "name": "python",
   "nbconvert_exporter": "python",
   "pygments_lexer": "ipython3",
   "version": "3.5.2"
  }
 },
 "nbformat": 4,
 "nbformat_minor": 2
}
